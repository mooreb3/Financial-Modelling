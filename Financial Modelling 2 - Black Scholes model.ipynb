{
 "cells": [
  {
   "cell_type": "code",
   "execution_count": 1,
   "metadata": {},
   "outputs": [],
   "source": [
    "\n",
    "from math import log, sqrt, pi, exp\n",
    "from scipy.stats import norm\n",
    "from datetime import datetime, date\n",
    "import numpy as np\n",
    "import pandas as pd\n",
    "from pandas import DataFrame\n",
    "\n",
    "def d1(S,K,T,r,sigma):\n",
    "    return(log(S/K)+(r+sigma**2/2.)*T)/(sigma*sqrt(T))\n",
    "def d2(S,K,T,r,sigma):\n",
    "    return d1(S,K,T,r,sigma)-sigma*sqrt(T)\n"
   ]
  },
  {
   "cell_type": "code",
   "execution_count": 2,
   "metadata": {},
   "outputs": [],
   "source": [
    "def bs_call(S,K,T,r,sigma):\n",
    "    return S*norm.cdf(d1(S,K,T,r,sigma))-K*exp(-r*T)*norm.cdf(d2(S,K,T,r,sigma))\n",
    "  \n",
    "def bs_put(S,K,T,r,sigma):\n",
    "    return K*exp(-r*T)-S+bs_call(S,K,T,r,sigma)"
   ]
  },
  {
   "cell_type": "code",
   "execution_count": 5,
   "metadata": {},
   "outputs": [
    {
     "ename": "SyntaxError",
     "evalue": "invalid syntax (<ipython-input-5-c03e496d018a>, line 4)",
     "output_type": "error",
     "traceback": [
      "\u001b[1;36m  File \u001b[1;32m\"<ipython-input-5-c03e496d018a>\"\u001b[1;36m, line \u001b[1;32m4\u001b[0m\n\u001b[1;33m    import pandas-datareader.data as web\u001b[0m\n\u001b[1;37m                 ^\u001b[0m\n\u001b[1;31mSyntaxError\u001b[0m\u001b[1;31m:\u001b[0m invalid syntax\n"
     ]
    }
   ],
   "source": [
    "\n",
    "from datetime import datetime, date\n",
    "import numpy as np\n",
    "import pandas as pd\n",
    "\n",
    "import pandas-datareader.data as web\n",
    "\n",
    "stock = 'SPY'\n",
    "expiry = '12-18-2022'\n",
    "strike_price = 370\n",
    "\n",
    "today = datetime.now()\n",
    "one_year_ago = today.replace(year=today.year-1)\n",
    "\n",
    "df = web.DataReader(stock, 'yahoo', one_year_ago, today)\n",
    "\n",
    "df = df.sort_values(by=\"Date\")\n",
    "df = df.dropna()\n",
    "df = df.assign(close_day_before=df.Close.shift(1))\n",
    "df['returns'] = ((df.Close - df.close_day_before)/df.close_day_before)\n",
    "\n",
    "sigma = np.sqrt(252) * df['returns'].std()\n",
    "uty = (web.DataReader(\n",
    "    \"^TNX\", 'yahoo', today.replace(day=today.day-1), today)['Close'].iloc[-1])/100\n",
    "lcp = df['Close'].iloc[-1]\n",
    "t = (datetime.strptime(expiry, \"%m-%d-%Y\") - datetime.utcnow()).days / 365\n",
    "\n",
    "print('The Option Price is: ', bs_call(lcp, strike_price, t, uty, sigma))"
   ]
  },
  {
   "cell_type": "code",
   "execution_count": 4,
   "metadata": {},
   "outputs": [
    {
     "ename": "NameError",
     "evalue": "name 'lcp' is not defined",
     "output_type": "error",
     "traceback": [
      "\u001b[1;31m---------------------------------------------------------------------------\u001b[0m",
      "\u001b[1;31mNameError\u001b[0m                                 Traceback (most recent call last)",
      "\u001b[1;32m<ipython-input-4-98f6104c2d10>\u001b[0m in \u001b[0;36m<module>\u001b[1;34m\u001b[0m\n\u001b[0;32m     20\u001b[0m \u001b[1;33m\u001b[0m\u001b[0m\n\u001b[0;32m     21\u001b[0m print(\"Implied Volatility: \" +\n\u001b[1;32m---> 22\u001b[1;33m       str(100 * call_implied_volatility(bs_call(lcp, strike_price, t, uty, sigma,), lcp, strike_price, t, uty,)) + \" %\")\n\u001b[0m",
      "\u001b[1;31mNameError\u001b[0m: name 'lcp' is not defined"
     ]
    }
   ],
   "source": [
    "\n",
    "def call_implied_volatility(Price, S, K, T, r):\n",
    "    sigma = 0.001\n",
    "    while sigma < 1:\n",
    "        Price_implied = S * \\\n",
    "            norm.cdf(d1(S, K, T, r, sigma))-K*exp(-r*T) * \\\n",
    "            norm.cdf(d2(S, K, T, r, sigma))\n",
    "        if Price-(Price_implied) < 0.001:\n",
    "            return sigma\n",
    "        sigma += 0.001\n",
    "    return \"Not Found\"\n",
    "\n",
    "def put_implied_volatility(Price, S, K, T, r):\n",
    "    sigma = 0.001\n",
    "    while sigma < 1:\n",
    "        Price_implied = K*exp(-r*T)-S+bs_call(S, K, T, r, sigma)\n",
    "        if Price-(Price_implied) < 0.001:\n",
    "            return sigma\n",
    "        sigma += 0.001\n",
    "    return \"Not Found\"\n",
    "\n",
    "print(\"Implied Volatility: \" +\n",
    "      str(100 * call_implied_volatility(bs_call(lcp, strike_price, t, uty, sigma,), lcp, strike_price, t, uty,)) + \" %\")"
   ]
  },
  {
   "cell_type": "code",
   "execution_count": null,
   "metadata": {},
   "outputs": [],
   "source": []
  }
 ],
 "metadata": {
  "kernelspec": {
   "display_name": "Python 3",
   "language": "python",
   "name": "python3"
  },
  "language_info": {
   "codemirror_mode": {
    "name": "ipython",
    "version": 3
   },
   "file_extension": ".py",
   "mimetype": "text/x-python",
   "name": "python",
   "nbconvert_exporter": "python",
   "pygments_lexer": "ipython3",
   "version": "3.7.4"
  }
 },
 "nbformat": 4,
 "nbformat_minor": 2
}
